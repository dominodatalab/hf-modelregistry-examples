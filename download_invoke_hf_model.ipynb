{
 "cells": [
  {
   "cell_type": "code",
   "execution_count": null,
   "id": "df249446-d2a7-4bfa-936e-1266a6610869",
   "metadata": {},
   "outputs": [],
   "source": [
    "!pip install transformers torch"
   ]
  },
  {
   "cell_type": "code",
   "execution_count": 37,
   "id": "c5ef9888-6f51-4112-ab04-4b9c36e9318b",
   "metadata": {},
   "outputs": [],
   "source": [
    "import os\n",
    "import shutil\n",
    "from pathlib import Path\n",
    "from transformers import AutoModelForSequenceClassification, AutoTokenizer\n",
    "import mlflow\n",
    "from mlflow.store.artifact.runs_artifact_repo import RunsArtifactRepository\n",
    "from huggingface_model_wrapper import HuggingFaceModelWrapper\n"
   ]
  },
  {
   "cell_type": "markdown",
   "id": "f254b761-5ac2-450a-8548-f18c96310160",
   "metadata": {},
   "source": [
    "## Download and save model to a folder"
   ]
  },
  {
   "cell_type": "code",
   "execution_count": 49,
   "id": "916f84e1-9b91-45c6-98c4-1819ad65c8f2",
   "metadata": {},
   "outputs": [],
   "source": [
    "\n",
    "def save_model_to_dataset(model_name,dataset_name,project_id,mlflow_run_id):\n",
    "    print(mlflow_run_id)\n",
    "    artifact_dir = f\"/mnt/data/{dataset_name}/mlflow-artifacts/{project_id}/{mlflow_run_id}\"\n",
    "    print(artifact_dir)\n",
    "    Path(artifact_dir).mkdir(parents=True, exist_ok=True)\n",
    "    # Load the model and tokenizer from Hugging Face\n",
    "    model = AutoModelForSequenceClassification.from_pretrained(model_name)\n",
    "    tokenizer = AutoTokenizer.from_pretrained(model_name)\n",
    "    print(artifact_dir)\n",
    "    # Save the model and tokenizer to the local directory\n",
    "    model.save_pretrained(artifact_dir)\n",
    "    tokenizer.save_pretrained(artifact_dir)\n",
    "    print(artifact_dir)\n",
    "    return artifact_dir"
   ]
  },
  {
   "cell_type": "markdown",
   "id": "8829237c-9dfd-4bc8-896c-76e36fa69c93",
   "metadata": {},
   "source": [
    "## Create MLflow Client"
   ]
  },
  {
   "cell_type": "code",
   "execution_count": 38,
   "id": "27f04622-cce8-48d6-aed9-de9a5d6eb9b6",
   "metadata": {},
   "outputs": [
    {
     "name": "stdout",
     "output_type": "stream",
     "text": [
      "An error occurred: RESOURCE_ALREADY_EXISTS: Registered Model (name=distilbert-base-uncased-finetuned-sst-2-english) already exists. Error: (psycopg2.errors.UniqueViolation) duplicate key value violates unique constraint \"registered_model_pk\"\n",
      "DETAIL:  Key (name)=(distilbert-base-uncased-finetuned-sst-2-english) already exists.\n",
      "\n",
      "[SQL: INSERT INTO registered_models (name, creation_time, last_updated_time, description) VALUES (%(name)s, %(creation_time)s, %(last_updated_time)s, %(description)s)]\n",
      "[parameters: {'name': 'distilbert-base-uncased-finetuned-sst-2-english', 'creation_time': 1729170288653, 'last_updated_time': 1729170288653, 'description': ''}]\n",
      "(Background on this error at: https://sqlalche.me/e/20/gkpj)\n",
      "Can make it better, but verify that it RESOURCE_ALREADY_EXISTS\n"
     ]
    }
   ],
   "source": [
    "client = mlflow.MlflowClient()\n",
    "\n",
    "model_name = \"distilbert-base-uncased-finetuned-sst-2-english\"\n",
    "# Define the folder where the model is saved\n",
    "saved_model_path = \"./saved_model\"\n",
    "mlflow_model_path = \"./mlflow_huggingface_model\"\n",
    "project_id = os.environ['DOMINO_PROJECT_ID']\n",
    "dataset_name = \"LLMRegistrationToMLflow\"\n",
    "\n",
    "try:\n",
    "    registered_model = client.create_registered_model(model_name)\n",
    "except Exception as e:\n",
    "    print(f\"An error occurred: {e}\")\n",
    "    print(\"Can make it better, but verify that it RESOURCE_ALREADY_EXISTS\")\n",
    "    \n",
    "# Log the Hugging Face model as an MLflow pyfunc model\n",
    "experiment_name = 'HFModelv1'\n",
    "exp = mlflow.get_experiment_by_name(experiment_name)\n",
    "if not exp:\n",
    "    mlflow.create_experiment(experiment_name)"
   ]
  },
  {
   "cell_type": "code",
   "execution_count": null,
   "id": "1829b50d-4fe1-4f3c-a5fe-a4df4bc390c3",
   "metadata": {},
   "outputs": [],
   "source": [
    "## Register the model"
   ]
  },
  {
   "cell_type": "code",
   "execution_count": 50,
   "id": "6bca9949-9820-42b5-ad0f-6a07d3a76578",
   "metadata": {},
   "outputs": [
    {
     "name": "stdout",
     "output_type": "stream",
     "text": [
      "30c87a23cf964ea48976ad2211ec0e9f\n",
      "/mnt/data/LLMRegistrationToMLflow/mlflow-artifacts/6710ed7105c71550f6f8b20e/30c87a23cf964ea48976ad2211ec0e9f\n",
      "/mnt/data/LLMRegistrationToMLflow/mlflow-artifacts/6710ed7105c71550f6f8b20e/30c87a23cf964ea48976ad2211ec0e9f\n",
      "/mnt/data/LLMRegistrationToMLflow/mlflow-artifacts/6710ed7105c71550f6f8b20e/30c87a23cf964ea48976ad2211ec0e9f\n",
      "Model and tokenizer saved to /mnt/data/LLMRegistrationToMLflow/mlflow-artifacts/6710ed7105c71550f6f8b20e/30c87a23cf964ea48976ad2211ec0e9f\n"
     ]
    },
    {
     "data": {
      "application/vnd.jupyter.widget-view+json": {
       "model_id": "d347765e90be45b5a1d4e9e2c22c9e9b",
       "version_major": 2,
       "version_minor": 0
      },
      "text/plain": [
       "Downloading artifacts:   0%|          | 0/6 [00:00<?, ?it/s]"
      ]
     },
     "metadata": {},
     "output_type": "display_data"
    },
    {
     "name": "stderr",
     "output_type": "stream",
     "text": [
      "huggingface/tokenizers: The current process just got forked, after parallelism has already been used. Disabling parallelism to avoid deadlocks...\n",
      "To disable this warning, you can either:\n",
      "\t- Avoid using `tokenizers` before the fork if possible\n",
      "\t- Explicitly set the environment variable TOKENIZERS_PARALLELISM=(true | false)\n",
      "2024/10/17 13:08:30 INFO mlflow.store.model_registry.abstract_store: Waiting up to 300 seconds for model version to finish creation. Model name: distilbert-base-uncased-finetuned-sst-2-english, version 6\n"
     ]
    },
    {
     "name": "stdout",
     "output_type": "stream",
     "text": [
      "<mlflow.models.model.ModelInfo object at 0x7fdc34ab3b20>\n",
      "Name: distilbert-base-uncased-finetuned-sst-2-english\n",
      "Version: 6\n",
      "Description: Version of the model distilbert-base-uncased-finetuned-sst-2-english\n",
      "Status: READY\n",
      "Stage: None\n"
     ]
    }
   ],
   "source": [
    "mlflow.set_experiment(experiment_name)\n",
    "with mlflow.start_run() as run:    \n",
    "    run_id = run.info.run_id         \n",
    "    artifact_dir = save_model_to_dataset(model_name,dataset_name,project_id,run_id)\n",
    "    print(f\"Model and tokenizer saved to {artifact_dir}\")\n",
    "    home_dir = os.path.expanduser(\"~\")    \n",
    "    local_path=f'{home_dir}/{model_name}'\n",
    "    if os.path.exists(local_path):\n",
    "        shutil.rmtree(local_path)\n",
    "    model_info = mlflow.pyfunc.log_model(      \n",
    "                    artifact_path = \"\",\n",
    "                    python_model=HuggingFaceModelWrapper(),\n",
    "                    artifacts={\"model_path\": artifact_dir}  # Pass the model path as metadata\n",
    "                    )\n",
    "    print(model_info)\n",
    "    runs_uri = model_info.model_uri\n",
    "    \n",
    "    # Create a new model version of the RandomForestRegression model from this run\n",
    "    desc = f\"Version of the model {model_name}\"\n",
    "    model_src = RunsArtifactRepository.get_underlying_uri(runs_uri)\n",
    "    mv = client.create_model_version(model_name, model_src, run.info.run_id, description=desc)\n",
    "    print(\"Name: {}\".format(mv.name))\n",
    "    print(\"Version: {}\".format(mv.version))\n",
    "    print(\"Description: {}\".format(mv.description))\n",
    "    print(\"Status: {}\".format(mv.status))\n",
    "    print(\"Stage: {}\".format(mv.current_stage))"
   ]
  },
  {
   "cell_type": "code",
   "execution_count": null,
   "id": "f0d88d71-0f1c-4960-8972-2da603845790",
   "metadata": {},
   "outputs": [],
   "source": [
    "## Fetch the Registered Model By Name and Version and invoke it"
   ]
  },
  {
   "cell_type": "code",
   "execution_count": 51,
   "id": "9f35e9e1-ad50-4685-8820-71c907946078",
   "metadata": {},
   "outputs": [
    {
     "data": {
      "application/vnd.jupyter.widget-view+json": {
       "model_id": "143d2c44199e45a9b9736436ce125b04",
       "version_major": 2,
       "version_minor": 0
      },
      "text/plain": [
       "Downloading artifacts:   0%|          | 0/11 [00:00<?, ?it/s]"
      ]
     },
     "metadata": {},
     "output_type": "display_data"
    },
    {
     "name": "stderr",
     "output_type": "stream",
     "text": [
      "2024/10/17 13:12:28 INFO mlflow.store.artifact.artifact_repo: The progress bar can be disabled by setting the environment variable MLFLOW_ENABLE_ARTIFACTS_PROGRESS_BAR to false\n"
     ]
    },
    {
     "name": "stdout",
     "output_type": "stream",
     "text": [
      "Predicted classes: [1 0]\n",
      "Predictions: [1 0]\n"
     ]
    }
   ],
   "source": [
    "# Load the model from the registered model version\n",
    "model_version = 6\n",
    "model_uri = f\"models:/{model_name}/{model_version}\"\n",
    "loaded_model = mlflow.pyfunc.load_model(model_uri)\n",
    "\n",
    "# Use the loaded model for inference\n",
    "# Test input for inference\n",
    "test_input = [\"I love this movie!\", \"The cast could have been better!\"]\n",
    "\n",
    "# Invoke the model by passing input data\n",
    "predictions = loaded_model.predict(test_input)\n",
    "\n",
    "# Print the predictions\n",
    "print(f\"Predicted classes: {predictions}\")\n",
    "\n",
    "predictions = loaded_model.predict(test_input)\n",
    "\n",
    "print(f\"Predictions: {predictions}\")"
   ]
  },
  {
   "cell_type": "code",
   "execution_count": 53,
   "id": "3604ee3c-2789-41e0-a0c2-d0876f5d47b7",
   "metadata": {},
   "outputs": [
    {
     "data": {
      "application/vnd.jupyter.widget-view+json": {
       "model_id": "b313a128fdc046a9906698f4192f97f7",
       "version_major": 2,
       "version_minor": 0
      },
      "text/plain": [
       "Downloading artifacts:   0%|          | 0/11 [00:00<?, ?it/s]"
      ]
     },
     "metadata": {},
     "output_type": "display_data"
    },
    {
     "name": "stderr",
     "output_type": "stream",
     "text": [
      "2024/10/17 13:18:45 INFO mlflow.store.artifact.artifact_repo: The progress bar can be disabled by setting the environment variable MLFLOW_ENABLE_ARTIFACTS_PROGRESS_BAR to false\n"
     ]
    },
    {
     "name": "stdout",
     "output_type": "stream",
     "text": [
      "Predicted classes: [1]\n",
      "Predictions: [1]\n"
     ]
    },
    {
     "ename": "NameError",
     "evalue": "name 'preditions' is not defined",
     "output_type": "error",
     "traceback": [
      "\u001b[0;31m---------------------------------------------------------------------------\u001b[0m",
      "\u001b[0;31mNameError\u001b[0m                                 Traceback (most recent call last)",
      "Cell \u001b[0;32mIn[53], line 2\u001b[0m\n\u001b[1;32m      1\u001b[0m \u001b[38;5;28;01mimport\u001b[39;00m \u001b[38;5;21;01mmodel_invocation_job\u001b[39;00m \n\u001b[0;32m----> 2\u001b[0m \u001b[43mmodel_invocation_job\u001b[49m\u001b[38;5;241;43m.\u001b[39;49m\u001b[43minvoke_model\u001b[49m\u001b[43m(\u001b[49m\u001b[43mmodel_name\u001b[49m\u001b[43m,\u001b[49m\u001b[43mmodel_version\u001b[49m\u001b[43m,\u001b[49m\u001b[38;5;124;43m\"\u001b[39;49m\u001b[38;5;124;43mI loved the movie\u001b[39;49m\u001b[38;5;124;43m\"\u001b[39;49m\u001b[43m)\u001b[49m\n",
      "File \u001b[0;32m/mnt/code/model_invocation_job.py:22\u001b[0m, in \u001b[0;36minvoke_model\u001b[0;34m(model_name, model_version, input)\u001b[0m\n\u001b[1;32m     19\u001b[0m predictions \u001b[38;5;241m=\u001b[39m loaded_model\u001b[38;5;241m.\u001b[39mpredict(test_input)\n\u001b[1;32m     21\u001b[0m \u001b[38;5;28mprint\u001b[39m(\u001b[38;5;124mf\u001b[39m\u001b[38;5;124m\"\u001b[39m\u001b[38;5;124mPredictions: \u001b[39m\u001b[38;5;132;01m{\u001b[39;00mpredictions\u001b[38;5;132;01m}\u001b[39;00m\u001b[38;5;124m\"\u001b[39m)\n\u001b[0;32m---> 22\u001b[0m \u001b[38;5;28;01mreturn\u001b[39;00m \u001b[43mpreditions\u001b[49m\n",
      "\u001b[0;31mNameError\u001b[0m: name 'preditions' is not defined"
     ]
    }
   ],
   "source": [
    "import model_invocation_job \n",
    "model_invocation_job.invoke_model(model_name,model_version,\"I loved the movie\")"
   ]
  },
  {
   "cell_type": "code",
   "execution_count": null,
   "id": "c9f0b42d-edfd-4d22-af3d-827a2f8e64b8",
   "metadata": {},
   "outputs": [],
   "source": []
  }
 ],
 "metadata": {
  "kernelspec": {
   "display_name": "Python 3 (ipykernel)",
   "language": "python",
   "name": "python3"
  },
  "language_info": {
   "codemirror_mode": {
    "name": "ipython",
    "version": 3
   },
   "file_extension": ".py",
   "mimetype": "text/x-python",
   "name": "python",
   "nbconvert_exporter": "python",
   "pygments_lexer": "ipython3",
   "version": "3.9.18"
  }
 },
 "nbformat": 4,
 "nbformat_minor": 5
}
